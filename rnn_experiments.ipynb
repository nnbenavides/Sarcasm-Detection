{
 "cells": [
  {
   "cell_type": "code",
   "execution_count": 33,
   "metadata": {},
   "outputs": [],
   "source": [
    "# Author: Nicholas Benavides, Ray Thai, & Crystal Zheng\n",
    "# Code liberally inspired by and lifted from:\n",
    "# https://github.com/kolchinski/reddit-sarc\n",
    "# https://github.com/cgpotts/cs224u"
   ]
  },
  {
   "cell_type": "code",
   "execution_count": 23,
   "metadata": {},
   "outputs": [],
   "source": [
    "import os\n",
    "import csv\n",
    "import json\n",
    "from itertools import islice, chain\n",
    "import nltk\n",
    "from collections import Counter\n",
    "import numpy as np\n",
    "from sklearn.feature_extraction import DictVectorizer\n",
    "from sklearn.model_selection import KFold\n",
    "from sklearn.metrics import classification_report\n",
    "from torch_shallow_neural_classifier import TorchShallowNeuralClassifier\n"
   ]
  },
  {
   "cell_type": "code",
   "execution_count": 2,
   "metadata": {},
   "outputs": [],
   "source": [
    "pol_dir = '../SARC/2.0/pol'\n",
    "comments_file = os.path.join(pol_dir, 'comments.json')\n",
    "train_file = os.path.join(pol_dir, 'train-balanced.csv')"
   ]
  },
  {
   "cell_type": "code",
   "execution_count": 3,
   "metadata": {},
   "outputs": [],
   "source": [
    "with open(comments_file, 'r') as f:\n",
    "    comments = json.load(f)"
   ]
  },
  {
   "cell_type": "code",
   "execution_count": 4,
   "metadata": {},
   "outputs": [],
   "source": [
    "train_ancestors = []\n",
    "train_responses = []\n",
    "train_labels = []\n",
    "lower = True\n",
    "with open(train_file, 'r') as f:\n",
    "    reader = csv.reader(f, delimiter='|')\n",
    "    for row in reader:\n",
    "        ancestors = row[0].split(' ')\n",
    "        responses = row[1].split(' ')\n",
    "        labels = row[2].split(' ')\n",
    "        if lower:\n",
    "            train_ancestors.append([comments[r]['text'].lower() for r in ancestors])\n",
    "            train_responses.append([comments[r]['text'].lower() for r in responses])\n",
    "        else:\n",
    "            train_ancestors.append([comments[r]['text'] for r in ancestors])\n",
    "            train_responses.append([comments[r]['text'] for r in responses])\n",
    "        train_labels.append(labels)"
   ]
  },
  {
   "cell_type": "code",
   "execution_count": 5,
   "metadata": {},
   "outputs": [
    {
     "name": "stdout",
     "output_type": "stream",
     "text": [
      "13630\n"
     ]
    }
   ],
   "source": [
    "from collections import defaultdict\n",
    "train_vocab = defaultdict(int)\n",
    "for pair in train_responses:\n",
    "    for comment in pair:\n",
    "        for w in nltk.word_tokenize(comment):\n",
    "            train_vocab[w] += 1\n",
    "train_vocab = Counter(train_vocab)\n",
    "print(len(train_vocab))"
   ]
  },
  {
   "cell_type": "code",
   "execution_count": 10,
   "metadata": {},
   "outputs": [],
   "source": [
    "def unigrams_phi_c(comment):\n",
    "    return Counter(nltk.word_tokenize(comment))"
   ]
  },
  {
   "cell_type": "code",
   "execution_count": 11,
   "metadata": {},
   "outputs": [],
   "source": [
    "def concat_phi_r(response_features_pair):\n",
    "    assert len(response_features_pair) == 2\n",
    "    cat = np.concatenate((response_features_pair[0], response_features_pair[1]))\n",
    "    return cat\n",
    "    "
   ]
  },
  {
   "cell_type": "code",
   "execution_count": 12,
   "metadata": {},
   "outputs": [],
   "source": [
    "#phi_c turns comments into features\n",
    "#phi_a combines ancestor features into summary\n",
    "#phi_r combines response features into summary\n",
    "#Note that this is for the \"balanced\" framing!\n",
    "#TODO: Initially ignoring ancestors, include them as another vector later\n",
    "def build_dataset(ancestors, responses, labels, phi_c, phi_a, phi_r, vectorizer=None, vectorize = True):\n",
    "    X = []\n",
    "    Y = []\n",
    "    feat_dicts = [[],[]]\n",
    "    N = len(ancestors)\n",
    "    assert N == len(responses) == len(labels)\n",
    "    print(N)\n",
    "    for i in range(N):\n",
    "        if i % 1000 == 0 and i > 0:\n",
    "            print(i)\n",
    "        assert len(responses[i]) == 2\n",
    "        feat_dicts[0].append(phi_c(responses[i][0]))\n",
    "        feat_dicts[1].append(phi_c(responses[i][1]))\n",
    "    \n",
    "        #We only care about the first of the two labels since in the balanced setting\n",
    "        #they're either 0 1 or 1 0\n",
    "        Y.append(int(labels[i][0]))\n",
    "            \n",
    "    if vectorize:\n",
    "        # In training, we want a new vectorizer:\n",
    "        if vectorizer == None:\n",
    "            vectorizer = DictVectorizer(sparse=False)\n",
    "            #print(feat_dicts[0][:10], feat_dicts[1][:10])\n",
    "            feat_matrix = vectorizer.fit_transform(feat_dicts[0] + feat_dicts[1])\n",
    "        # In assessment, we featurize using the existing vectorizer:\n",
    "        else:\n",
    "            feat_matrix = vectorizer.transform(chain(feat_dicts[0], feat_dicts[1]))\n",
    "        \n",
    "        response_pair_feats = [feat_matrix[:N], feat_matrix[N:]]\n",
    "    else:\n",
    "        response_pair_feats = feat_dicts\n",
    "        #print(response_pair_feats[0])\n",
    "\n",
    "    #assert len(feat_matrix == 2*N) \n",
    "    #print((feat_matrix[0]), len(feat_matrix[1]))\n",
    "    \n",
    "    X = [phi_r((response_pair_feats[0][i], response_pair_feats[1][i])) for i in range(N)]\n",
    "    #X = list(map(phi_r, response_pair_feats))\n",
    "    \n",
    "    return {'X': np.array(X),\n",
    "            'y': np.array(Y),\n",
    "            'vectorizer': vectorizer,\n",
    "            'raw_examples': (ancestors, responses)}\n",
    "\n",
    "        "
   ]
  },
  {
   "cell_type": "code",
   "execution_count": 13,
   "metadata": {},
   "outputs": [],
   "source": [
    "responses = train_responses\n",
    "phi_c = unigrams_phi_c\n",
    "N = len(responses)\n",
    "feat_dicts = [[],[]]\n",
    "for i in range(N):\n",
    "    assert len(responses[i]) == 2\n",
    "    feat_dicts[0].append(phi_c(responses[i][0]))\n",
    "    feat_dicts[1].append(phi_c(responses[i][1]))"
   ]
  },
  {
   "cell_type": "code",
   "execution_count": 30,
   "metadata": {},
   "outputs": [],
   "source": [
    "def xval_model(model_fit_fn, X, y, folds):\n",
    "    kf = KFold(folds)\n",
    "    macro_f1_avg = 0\n",
    "    for train, test in kf.split(X, y):\n",
    "        model = model_fit_fn(X[train], y[train])\n",
    "        predictions = model.predict(X[test])\n",
    "        report = classification_report(y[test], predictions, output_dict = True)\n",
    "        macro_f1_avg += report['macro avg']['f1-score']\n",
    "        print(classification_report(y[test], predictions, digits=3))\n",
    "    macro_f1_avg /= folds\n",
    "    output = 'Average Macro F1 Score across folds = ' + str(macro_f1_avg)\n",
    "    print(output)"
   ]
  },
  {
   "cell_type": "code",
   "execution_count": 31,
   "metadata": {},
   "outputs": [],
   "source": [
    "from allennlp.commands.elmo import ElmoEmbedder"
   ]
  },
  {
   "cell_type": "code",
   "execution_count": 16,
   "metadata": {},
   "outputs": [],
   "source": [
    "elmo = ElmoEmbedder()"
   ]
  },
  {
   "cell_type": "code",
   "execution_count": 17,
   "metadata": {},
   "outputs": [],
   "source": [
    "def elmo_phi_c(comment):\n",
    "    vecs = elmo.embed_sentence(nltk.word_tokenize(comment))\n",
    "    elmo_avg_vec = vecs.mean(axis = 0)\n",
    "    return elmo_avg_vec[0]"
   ]
  },
  {
   "cell_type": "code",
   "execution_count": 18,
   "metadata": {},
   "outputs": [
    {
     "name": "stdout",
     "output_type": "stream",
     "text": [
      "6834\n"
     ]
    }
   ],
   "source": [
    "elmo_dataset = build_dataset(\n",
    "    train_ancestors, train_responses, train_labels, elmo_phi_c, None, concat_phi_r, None, False)"
   ]
  },
  {
   "cell_type": "code",
   "execution_count": 35,
   "metadata": {},
   "outputs": [],
   "source": [
    "np.save('pol-balanced-elmo-X.npy', elmo_dataset['X'])\n",
    "np.save('pol-balanced-elmo-y.npy', elmo_dataset['y'])"
   ]
  },
  {
   "cell_type": "code",
   "execution_count": 45,
   "metadata": {},
   "outputs": [],
   "source": [
    "def fit_basic_rnn(X, y):  \n",
    "    mod = TorchShallowNeuralClassifier(hidden_dim = 350, max_iter = 100)\n",
    "    mod.fit(X, y)\n",
    "    return mod"
   ]
  },
  {
   "cell_type": "code",
   "execution_count": 46,
   "metadata": {},
   "outputs": [
    {
     "name": "stderr",
     "output_type": "stream",
     "text": [
      "Finished epoch 100 of 100; error is 0.010602785157971084"
     ]
    },
    {
     "name": "stdout",
     "output_type": "stream",
     "text": [
      "              precision    recall  f1-score   support\n",
      "\n",
      "           0      0.681     0.673     0.677       681\n",
      "           1      0.679     0.687     0.683       686\n",
      "\n",
      "   micro avg      0.680     0.680     0.680      1367\n",
      "   macro avg      0.680     0.680     0.680      1367\n",
      "weighted avg      0.680     0.680     0.680      1367\n",
      "\n"
     ]
    },
    {
     "name": "stderr",
     "output_type": "stream",
     "text": [
      "Finished epoch 100 of 100; error is 0.014005562057718635"
     ]
    },
    {
     "name": "stdout",
     "output_type": "stream",
     "text": [
      "              precision    recall  f1-score   support\n",
      "\n",
      "           0      0.701     0.667     0.684       708\n",
      "           1      0.660     0.695     0.677       659\n",
      "\n",
      "   micro avg      0.680     0.680     0.680      1367\n",
      "   macro avg      0.681     0.681     0.680      1367\n",
      "weighted avg      0.681     0.680     0.680      1367\n",
      "\n"
     ]
    },
    {
     "name": "stderr",
     "output_type": "stream",
     "text": [
      "Finished epoch 100 of 100; error is 0.009105052798986435"
     ]
    },
    {
     "name": "stdout",
     "output_type": "stream",
     "text": [
      "              precision    recall  f1-score   support\n",
      "\n",
      "           0      0.666     0.679     0.673       679\n",
      "           1      0.677     0.664     0.671       688\n",
      "\n",
      "   micro avg      0.672     0.672     0.672      1367\n",
      "   macro avg      0.672     0.672     0.672      1367\n",
      "weighted avg      0.672     0.672     0.672      1367\n",
      "\n"
     ]
    },
    {
     "name": "stderr",
     "output_type": "stream",
     "text": [
      "Finished epoch 100 of 100; error is 0.0055631587747484446"
     ]
    },
    {
     "name": "stdout",
     "output_type": "stream",
     "text": [
      "              precision    recall  f1-score   support\n",
      "\n",
      "           0      0.678     0.710     0.694       680\n",
      "           1      0.699     0.667     0.683       687\n",
      "\n",
      "   micro avg      0.688     0.688     0.688      1367\n",
      "   macro avg      0.689     0.688     0.688      1367\n",
      "weighted avg      0.689     0.688     0.688      1367\n",
      "\n"
     ]
    },
    {
     "name": "stderr",
     "output_type": "stream",
     "text": [
      "Finished epoch 100 of 100; error is 0.01172166713513434"
     ]
    },
    {
     "name": "stdout",
     "output_type": "stream",
     "text": [
      "              precision    recall  f1-score   support\n",
      "\n",
      "           0      0.667     0.664     0.665       690\n",
      "           1      0.658     0.661     0.660       676\n",
      "\n",
      "   micro avg      0.663     0.663     0.663      1366\n",
      "   macro avg      0.662     0.663     0.662      1366\n",
      "weighted avg      0.663     0.663     0.663      1366\n",
      "\n",
      "Average Macro F1 Score across folds = 0.6764302521259069\n"
     ]
    }
   ],
   "source": [
    "xval_model(fit_basic_rnn, elmo_dataset['X'], elmo_dataset['y'], 5)"
   ]
  },
  {
   "cell_type": "code",
   "execution_count": null,
   "metadata": {},
   "outputs": [],
   "source": []
  }
 ],
 "metadata": {
  "kernelspec": {
   "display_name": "nlu",
   "language": "python",
   "name": "nlu"
  },
  "language_info": {
   "codemirror_mode": {
    "name": "ipython",
    "version": 3
   },
   "file_extension": ".py",
   "mimetype": "text/x-python",
   "name": "python",
   "nbconvert_exporter": "python",
   "pygments_lexer": "ipython3",
   "version": "3.7.1"
  }
 },
 "nbformat": 4,
 "nbformat_minor": 2
}
