{
 "cells": [
  {
   "cell_type": "code",
   "execution_count": 9,
   "metadata": {},
   "outputs": [],
   "source": [
    "# Author: Nicholas Benavides, Ray Thai, & Crystal Zheng\n",
    "# Code liberally inspired by and lifted from:\n",
    "# https://github.com/kolchinski/reddit-sarc"
   ]
  },
  {
   "cell_type": "code",
   "execution_count": 11,
   "metadata": {},
   "outputs": [],
   "source": [
    "import os\n",
    "import csv\n",
    "import json\n",
    "from itertools import islice, chain\n",
    "import nltk\n",
    "from collections import Counter\n",
    "import numpy as np\n",
    "from sklearn.feature_extraction import DictVectorizer\n",
    "from sklearn.model_selection import KFold\n",
    "from sklearn.metrics import classification_report\n",
    "from sklearn.linear_model import LogisticRegression\n",
    "from sklearn.naive_bayes import MultinomialNB\n",
    "\n",
    "%matplotlib inline\n",
    "from collections import defaultdict\n",
    "import pandas as pd\n",
    "from scipy import stats\n",
    "from pandas_ml import ConfusionMatrix\n",
    "from sklearn.datasets import make_classification\n",
    "from sklearn.model_selection import train_test_split\n",
    "# from sklearn.metrics import confusion_matrix"
   ]
  },
  {
   "cell_type": "code",
   "execution_count": 12,
   "metadata": {},
   "outputs": [],
   "source": [
    "pol_dir = '../reddit-sarc/SARC/2.0/pol'\n",
    "comments_file = os.path.join(pol_dir, 'comments.json')\n",
    "train_file = os.path.join(pol_dir, 'train-balanced.csv')"
   ]
  },
  {
   "cell_type": "code",
   "execution_count": 13,
   "metadata": {},
   "outputs": [],
   "source": [
    "with open(comments_file, 'r') as f:\n",
    "    comments = json.load(f)"
   ]
  },
  {
   "cell_type": "code",
   "execution_count": 14,
   "metadata": {},
   "outputs": [
    {
     "name": "stdout",
     "output_type": "stream",
     "text": [
      "('7uxqr', {'text': 'Nancyt Pelosi messes up.. 500 Million Jobs lost every month that the economic recovery plan is not passed.. LMAO', 'author': 'Fishbum', 'score': 0, 'ups': 2, 'downs': 4, 'date': '2009-02', 'created_utc': 1233788424, 'subreddit': 'politics'}) \n",
      "\n",
      "('7vewt', {'text': 'Netflix CEO: \"Please raise my taxes\"', 'author': 'jdl2003', 'score': 1733, 'ups': 1985, 'downs': 252, 'date': '2009-02', 'created_utc': 1233940024, 'subreddit': 'politics'}) \n",
      "\n"
     ]
    }
   ],
   "source": [
    "for x in islice(comments.items(), 2):\n",
    "    print(x, '\\n')"
   ]
  },
  {
   "cell_type": "code",
   "execution_count": 15,
   "metadata": {},
   "outputs": [],
   "source": [
    "train_ancestors = []\n",
    "train_responses = []\n",
    "train_labels = []\n",
    "lower = True\n",
    "with open(train_file, 'r') as f:\n",
    "    reader = csv.reader(f, delimiter='|')\n",
    "    for row in reader:\n",
    "        ancestors = row[0].split(' ')\n",
    "        responses = row[1].split(' ')\n",
    "        labels = row[2].split(' ')\n",
    "        if lower:\n",
    "            train_ancestors.append([comments[r]['text'].lower() for r in ancestors])\n",
    "            train_responses.append([comments[r]['text'].lower() for r in responses])\n",
    "        else:\n",
    "            train_ancestors.append([comments[r]['text'] for r in ancestors])\n",
    "            train_responses.append([comments[r]['text'] for r in responses])\n",
    "        train_labels.append(labels)"
   ]
  },
  {
   "cell_type": "code",
   "execution_count": 16,
   "metadata": {},
   "outputs": [
    {
     "data": {
      "text/plain": [
       "[(1, 2), (1, 2), (1, 2), (1, 2), (1, 2), (1, 2), (1, 2), (1, 2), (2, 2)]"
      ]
     },
     "execution_count": 16,
     "metadata": {},
     "output_type": "execute_result"
    }
   ],
   "source": [
    "[(len(x), len(y)) for x,y in zip(train_ancestors, train_responses)][:9]"
   ]
  },
  {
   "cell_type": "code",
   "execution_count": 17,
   "metadata": {},
   "outputs": [
    {
     "data": {
      "text/plain": [
       "(['new jersey governor chris christie thinks a family making $6,000 a year is too rich to qualify for medicaid',\n",
       "  \"if you have a kid and the best you can do is a minimum wage job then i think you've made some bad choices in the past\"],\n",
       " [\"yah, at that point they don't even count as people anymore!\",\n",
       "  'do you by any chance know what the term \"structural unemployment\" means?'],\n",
       " ['1', '0'])"
      ]
     },
     "execution_count": 17,
     "metadata": {},
     "output_type": "execute_result"
    }
   ],
   "source": [
    "train_ancestors[8], train_responses[8], train_labels[8]"
   ]
  },
  {
   "cell_type": "code",
   "execution_count": 18,
   "metadata": {},
   "outputs": [
    {
     "name": "stdout",
     "output_type": "stream",
     "text": [
      "13630\n"
     ]
    }
   ],
   "source": [
    "from collections import defaultdict\n",
    "train_vocab = defaultdict(int)\n",
    "for pair in train_responses:\n",
    "    for comment in pair:\n",
    "        for w in nltk.word_tokenize(comment):\n",
    "            train_vocab[w] += 1\n",
    "train_vocab = Counter(train_vocab)\n",
    "print(len(train_vocab))"
   ]
  },
  {
   "cell_type": "code",
   "execution_count": 19,
   "metadata": {},
   "outputs": [
    {
     "data": {
      "text/plain": [
       "[('.', 7226), ('the', 6553), (',', 5269), ('to', 4080), ('a', 3342)]"
      ]
     },
     "execution_count": 19,
     "metadata": {},
     "output_type": "execute_result"
    }
   ],
   "source": [
    "train_vocab.most_common(5)"
   ]
  },
  {
   "cell_type": "code",
   "execution_count": 20,
   "metadata": {},
   "outputs": [],
   "source": [
    "def unigrams_phi_c(comment):\n",
    "    return Counter(nltk.word_tokenize(comment))"
   ]
  },
  {
   "cell_type": "code",
   "execution_count": 21,
   "metadata": {},
   "outputs": [],
   "source": [
    "def concat_phi_r(response_features_pair):\n",
    "    assert len(response_features_pair) == 2\n",
    "    #print(response_features_pair[0].shape, response_features_pair[1].shape)\n",
    "    cat = np.concatenate((response_features_pair[0], response_features_pair[1]))\n",
    "    return cat\n",
    "    "
   ]
  },
  {
   "cell_type": "code",
   "execution_count": 22,
   "metadata": {},
   "outputs": [],
   "source": [
    "#phi_c turns comments into features\n",
    "#phi_a combines ancestor features into summary\n",
    "#phi_r combines response features into summary\n",
    "#Note that this is for the \"balanced\" framing!\n",
    "#TODO: Initially ignoring ancestors, include them as another vector later\n",
    "def build_dataset(ancestors, responses, labels, phi_c, phi_a, phi_r, vectorizer=None, vectorize = True):\n",
    "    X = []\n",
    "    Y = []\n",
    "    feat_dicts = [[],[]]\n",
    "    N = len(ancestors)\n",
    "    assert N == len(responses) == len(labels)\n",
    "    print(N)\n",
    "    for i in range(N):\n",
    "        assert len(responses[i]) == 2\n",
    "        feat_dicts[0].append(phi_c(responses[i][0]))\n",
    "        feat_dicts[1].append(phi_c(responses[i][1]))\n",
    "    \n",
    "        #We only care about the first of the two labels since in the balanced setting\n",
    "        #they're either 0 1 or 1 0\n",
    "        Y.append(int(labels[i][0]))\n",
    "            \n",
    "    if vectorize:\n",
    "        # In training, we want a new vectorizer:\n",
    "        if vectorizer == None:\n",
    "            vectorizer = DictVectorizer(sparse=False)\n",
    "            #print(feat_dicts[0][:10], feat_dicts[1][:10])\n",
    "            feat_matrix = vectorizer.fit_transform(feat_dicts[0] + feat_dicts[1])\n",
    "        # In assessment, we featurize using the existing vectorizer:\n",
    "        else:\n",
    "            feat_matrix = vectorizer.transform(chain(feat_dicts[0], feat_dicts[1]))\n",
    "        \n",
    "        response_pair_feats = [feat_matrix[:N], feat_matrix[N:]]\n",
    "    else:\n",
    "        response_pair_feats = feat_dicts\n",
    "        #print(response_pair_feats[0])\n",
    "\n",
    "    #assert len(feat_matrix == 2*N) \n",
    "    #print((feat_matrix[0]), len(feat_matrix[1]))\n",
    "    \n",
    "    X = [phi_r((response_pair_feats[0][i], response_pair_feats[1][i])) for i in range(N)]\n",
    "    #X = list(map(phi_r, response_pair_feats))\n",
    "    \n",
    "    return {'X': np.array(X),\n",
    "            'y': np.array(Y),\n",
    "            'vectorizer': vectorizer,\n",
    "            'raw_examples': (ancestors, responses)}\n",
    "\n",
    "        "
   ]
  },
  {
   "cell_type": "code",
   "execution_count": 23,
   "metadata": {},
   "outputs": [],
   "source": [
    "responses = train_responses\n",
    "phi_c = unigrams_phi_c\n",
    "N = len(responses)\n",
    "feat_dicts = [[],[]]\n",
    "for i in range(N):\n",
    "    assert len(responses[i]) == 2\n",
    "    feat_dicts[0].append(phi_c(responses[i][0]))\n",
    "    feat_dicts[1].append(phi_c(responses[i][1]))"
   ]
  },
  {
   "cell_type": "code",
   "execution_count": 24,
   "metadata": {},
   "outputs": [
    {
     "name": "stdout",
     "output_type": "stream",
     "text": [
      "6834\n"
     ]
    },
    {
     "data": {
      "text/plain": [
       "(6834, 27260)"
      ]
     },
     "execution_count": 24,
     "metadata": {},
     "output_type": "execute_result"
    }
   ],
   "source": [
    "unigram_dataset = build_dataset(train_ancestors, train_responses, train_labels, unigrams_phi_c, None, concat_phi_r)\n",
    "\n",
    "unigram_dataset['X'].shape"
   ]
  },
  {
   "cell_type": "code",
   "execution_count": 25,
   "metadata": {},
   "outputs": [],
   "source": [
    "def fit_maxent_classifier(X, y):  \n",
    "    #print(X.shape, y.shape)\n",
    "    mod = LogisticRegression(fit_intercept=True)\n",
    "    mod.fit(X, y)\n",
    "    return mod"
   ]
  },
  {
   "cell_type": "code",
   "execution_count": 31,
   "metadata": {},
   "outputs": [],
   "source": [
    "def fit_naive_bayes_classifier(X, y):  \n",
    "    #print(X.shape, y.shape)\n",
    "    mod = MultinomialNB()\n",
    "    mod.fit(X, y)\n",
    "    return mod"
   ]
  },
  {
   "cell_type": "code",
   "execution_count": 32,
   "metadata": {},
   "outputs": [],
   "source": [
    "import seaborn as sns\n",
    "import matplotlib.pyplot as plt \n",
    "from sklearn.metrics import f1_score"
   ]
  },
  {
   "cell_type": "code",
   "execution_count": 41,
   "metadata": {},
   "outputs": [],
   "source": [
    "stats = list()"
   ]
  },
  {
   "cell_type": "code",
   "execution_count": 42,
   "metadata": {},
   "outputs": [],
   "source": [
    "def xval_model(model_fit_fn, X, y, folds):\n",
    "    kf = KFold(folds)\n",
    "    for train, test in kf.split(X, y):\n",
    "        model = model_fit_fn(X[train], y[train])\n",
    "        predictions = model.predict(X[test])\n",
    "        print(classification_report(y[test], predictions, digits=3))  \n",
    "        confusion_matrix = ConfusionMatrix(y[test], predictions)\n",
    "        print(\"Confusion matrix:\\n%s\" % confusion_matrix)\n",
    "        confusion_matrix.plot()\n",
    "        score = f1_score(y[test], predictions, average='macro')\n",
    "#         print(score)\n",
    "        stats.append(score)"
   ]
  },
  {
   "cell_type": "code",
   "execution_count": 49,
   "metadata": {},
   "outputs": [],
   "source": []
  },
  {
   "cell_type": "code",
   "execution_count": 50,
   "metadata": {},
   "outputs": [
    {
     "name": "stderr",
     "output_type": "stream",
     "text": [
      "/Users/crystalz/anaconda3/lib/python3.7/site-packages/sklearn/linear_model/logistic.py:433: FutureWarning: Default solver will be changed to 'lbfgs' in 0.22. Specify a solver to silence this warning.\n",
      "  FutureWarning)\n"
     ]
    },
    {
     "name": "stdout",
     "output_type": "stream",
     "text": [
      "              precision    recall  f1-score   support\n",
      "\n",
      "           0      0.736     0.727     0.731       352\n",
      "           1      0.714     0.723     0.719       332\n",
      "\n",
      "   micro avg      0.725     0.725     0.725       684\n",
      "   macro avg      0.725     0.725     0.725       684\n",
      "weighted avg      0.725     0.725     0.725       684\n",
      "\n",
      "Confusion matrix:\n",
      "Predicted  False  True  __all__\n",
      "Actual                         \n",
      "False        256    96      352\n",
      "True          92   240      332\n",
      "__all__      348   336      684\n",
      "0.7249957228400343\n"
     ]
    },
    {
     "name": "stderr",
     "output_type": "stream",
     "text": [
      "/Users/crystalz/anaconda3/lib/python3.7/site-packages/sklearn/linear_model/logistic.py:433: FutureWarning: Default solver will be changed to 'lbfgs' in 0.22. Specify a solver to silence this warning.\n",
      "  FutureWarning)\n"
     ]
    },
    {
     "name": "stdout",
     "output_type": "stream",
     "text": [
      "              precision    recall  f1-score   support\n",
      "\n",
      "           0      0.698     0.729     0.713       329\n",
      "           1      0.738     0.707     0.722       355\n",
      "\n",
      "   micro avg      0.718     0.718     0.718       684\n",
      "   macro avg      0.718     0.718     0.718       684\n",
      "weighted avg      0.719     0.718     0.718       684\n",
      "\n",
      "Confusion matrix:\n",
      "Predicted  False  True  __all__\n",
      "Actual                         \n",
      "False        240    89      329\n",
      "True         104   251      355\n",
      "__all__      344   340      684\n",
      "0.7177632633863191\n"
     ]
    },
    {
     "name": "stderr",
     "output_type": "stream",
     "text": [
      "/Users/crystalz/anaconda3/lib/python3.7/site-packages/sklearn/linear_model/logistic.py:433: FutureWarning: Default solver will be changed to 'lbfgs' in 0.22. Specify a solver to silence this warning.\n",
      "  FutureWarning)\n"
     ]
    },
    {
     "name": "stdout",
     "output_type": "stream",
     "text": [
      "              precision    recall  f1-score   support\n",
      "\n",
      "           0      0.748     0.757     0.752       345\n",
      "           1      0.749     0.740     0.745       339\n",
      "\n",
      "   micro avg      0.749     0.749     0.749       684\n",
      "   macro avg      0.749     0.748     0.748       684\n",
      "weighted avg      0.749     0.749     0.749       684\n",
      "\n",
      "Confusion matrix:\n",
      "Predicted  False  True  __all__\n",
      "Actual                         \n",
      "False        261    84      345\n",
      "True          88   251      339\n",
      "__all__      349   335      684\n",
      "0.7484842524735118\n"
     ]
    },
    {
     "name": "stderr",
     "output_type": "stream",
     "text": [
      "/Users/crystalz/anaconda3/lib/python3.7/site-packages/sklearn/linear_model/logistic.py:433: FutureWarning: Default solver will be changed to 'lbfgs' in 0.22. Specify a solver to silence this warning.\n",
      "  FutureWarning)\n"
     ]
    },
    {
     "name": "stdout",
     "output_type": "stream",
     "text": [
      "              precision    recall  f1-score   support\n",
      "\n",
      "           0      0.747     0.745     0.746       365\n",
      "           1      0.709     0.712     0.710       319\n",
      "\n",
      "   micro avg      0.730     0.730     0.730       684\n",
      "   macro avg      0.728     0.728     0.728       684\n",
      "weighted avg      0.730     0.730     0.730       684\n",
      "\n",
      "Confusion matrix:\n",
      "Predicted  False  True  __all__\n",
      "Actual                         \n",
      "False        272    93      365\n",
      "True          92   227      319\n",
      "__all__      364   320      684\n",
      "0.7283564211055084\n"
     ]
    },
    {
     "name": "stderr",
     "output_type": "stream",
     "text": [
      "/Users/crystalz/anaconda3/lib/python3.7/site-packages/sklearn/linear_model/logistic.py:433: FutureWarning: Default solver will be changed to 'lbfgs' in 0.22. Specify a solver to silence this warning.\n",
      "  FutureWarning)\n"
     ]
    },
    {
     "name": "stdout",
     "output_type": "stream",
     "text": [
      "              precision    recall  f1-score   support\n",
      "\n",
      "           0      0.728     0.723     0.725       347\n",
      "           1      0.716     0.720     0.718       336\n",
      "\n",
      "   micro avg      0.722     0.722     0.722       683\n",
      "   macro avg      0.722     0.722     0.722       683\n",
      "weighted avg      0.722     0.722     0.722       683\n",
      "\n",
      "Confusion matrix:\n",
      "Predicted  False  True  __all__\n",
      "Actual                         \n",
      "False        251    96      347\n",
      "True          94   242      336\n",
      "__all__      345   338      683\n",
      "0.721767208109638\n"
     ]
    },
    {
     "name": "stderr",
     "output_type": "stream",
     "text": [
      "/Users/crystalz/anaconda3/lib/python3.7/site-packages/sklearn/linear_model/logistic.py:433: FutureWarning: Default solver will be changed to 'lbfgs' in 0.22. Specify a solver to silence this warning.\n",
      "  FutureWarning)\n"
     ]
    },
    {
     "name": "stdout",
     "output_type": "stream",
     "text": [
      "              precision    recall  f1-score   support\n",
      "\n",
      "           0      0.698     0.698     0.698       331\n",
      "           1      0.716     0.716     0.716       352\n",
      "\n",
      "   micro avg      0.707     0.707     0.707       683\n",
      "   macro avg      0.707     0.707     0.707       683\n",
      "weighted avg      0.707     0.707     0.707       683\n",
      "\n",
      "Confusion matrix:\n",
      "Predicted  False  True  __all__\n",
      "Actual                         \n",
      "False        231   100      331\n",
      "True         100   252      352\n",
      "__all__      331   352      683\n",
      "0.7068971436418567\n"
     ]
    },
    {
     "name": "stderr",
     "output_type": "stream",
     "text": [
      "/Users/crystalz/anaconda3/lib/python3.7/site-packages/sklearn/linear_model/logistic.py:433: FutureWarning: Default solver will be changed to 'lbfgs' in 0.22. Specify a solver to silence this warning.\n",
      "  FutureWarning)\n"
     ]
    },
    {
     "name": "stdout",
     "output_type": "stream",
     "text": [
      "              precision    recall  f1-score   support\n",
      "\n",
      "           0      0.735     0.801     0.767       347\n",
      "           1      0.774     0.702     0.736       336\n",
      "\n",
      "   micro avg      0.753     0.753     0.753       683\n",
      "   macro avg      0.755     0.752     0.752       683\n",
      "weighted avg      0.754     0.753     0.752       683\n",
      "\n",
      "Confusion matrix:\n",
      "Predicted  False  True  __all__\n",
      "Actual                         \n",
      "False        278    69      347\n",
      "True         100   236      336\n",
      "__all__      378   305      683\n",
      "0.7516230028511486\n"
     ]
    },
    {
     "name": "stderr",
     "output_type": "stream",
     "text": [
      "/Users/crystalz/anaconda3/lib/python3.7/site-packages/sklearn/linear_model/logistic.py:433: FutureWarning: Default solver will be changed to 'lbfgs' in 0.22. Specify a solver to silence this warning.\n",
      "  FutureWarning)\n"
     ]
    },
    {
     "name": "stdout",
     "output_type": "stream",
     "text": [
      "              precision    recall  f1-score   support\n",
      "\n",
      "           0      0.704     0.687     0.695       332\n",
      "           1      0.710     0.726     0.718       351\n",
      "\n",
      "   micro avg      0.707     0.707     0.707       683\n",
      "   macro avg      0.707     0.707     0.707       683\n",
      "weighted avg      0.707     0.707     0.707       683\n",
      "\n",
      "Confusion matrix:\n",
      "Predicted  False  True  __all__\n",
      "Actual                         \n",
      "False        228   104      332\n",
      "True          96   255      351\n",
      "__all__      324   359      683\n",
      "0.7067159051872209\n"
     ]
    },
    {
     "name": "stderr",
     "output_type": "stream",
     "text": [
      "/Users/crystalz/anaconda3/lib/python3.7/site-packages/sklearn/linear_model/logistic.py:433: FutureWarning: Default solver will be changed to 'lbfgs' in 0.22. Specify a solver to silence this warning.\n",
      "  FutureWarning)\n"
     ]
    },
    {
     "name": "stdout",
     "output_type": "stream",
     "text": [
      "              precision    recall  f1-score   support\n",
      "\n",
      "           0      0.759     0.701     0.729       345\n",
      "           1      0.717     0.772     0.744       338\n",
      "\n",
      "   micro avg      0.736     0.736     0.736       683\n",
      "   macro avg      0.738     0.737     0.736       683\n",
      "weighted avg      0.738     0.736     0.736       683\n",
      "\n",
      "Confusion matrix:\n",
      "Predicted  False  True  __all__\n",
      "Actual                         \n",
      "False        242   103      345\n",
      "True          77   261      338\n",
      "__all__      319   364      683\n",
      "0.736252703120173\n"
     ]
    },
    {
     "name": "stderr",
     "output_type": "stream",
     "text": [
      "/Users/crystalz/anaconda3/lib/python3.7/site-packages/sklearn/linear_model/logistic.py:433: FutureWarning: Default solver will be changed to 'lbfgs' in 0.22. Specify a solver to silence this warning.\n",
      "  FutureWarning)\n"
     ]
    },
    {
     "name": "stdout",
     "output_type": "stream",
     "text": [
      "              precision    recall  f1-score   support\n",
      "\n",
      "           0      0.704     0.751     0.727       345\n",
      "           1      0.727     0.678     0.701       338\n",
      "\n",
      "   micro avg      0.714     0.714     0.714       683\n",
      "   macro avg      0.715     0.714     0.714       683\n",
      "weighted avg      0.715     0.714     0.714       683\n",
      "\n",
      "Confusion matrix:\n",
      "Predicted  False  True  __all__\n",
      "Actual                         \n",
      "False        259    86      345\n",
      "True         109   229      338\n",
      "__all__      368   315      683\n",
      "0.7139429840481626\n"
     ]
    },
    {
     "data": {
      "image/png": "[encoded data removed]",
      "text/plain": [
       "<Figure size 648x576 with 2 Axes>"
      ]
     },
     "metadata": {
      "needs_background": "light"
     },
     "output_type": "display_data"
    },
    {
     "data": {
      "image/png": "[encoded data removed]",
      "text/plain": [
       "<Figure size 648x576 with 2 Axes>"
      ]
     },
     "metadata": {
      "needs_background": "light"
     },
     "output_type": "display_data"
    },
    {
     "data": {
      "image/png": "[encoded data removed]",
      "text/plain": [
       "<Figure size 648x576 with 2 Axes>"
      ]
     },
     "metadata": {
      "needs_background": "light"
     },
     "output_type": "display_data"
    },
    {
     "data": {
      "image/png": "[encoded data removed]",
      "text/plain": [
       "<Figure size 648x576 with 2 Axes>"
      ]
     },
     "metadata": {
      "needs_background": "light"
     },
     "output_type": "display_data"
    },
    {
     "data": {
      "image/png": "[encoded data removed]",
      "text/plain": [
       "<Figure size 648x576 with 2 Axes>"
      ]
     },
     "metadata": {
      "needs_background": "light"
     },
     "output_type": "display_data"
    },
    {
     "data": {
      "image/png": "[encoded data removed]",
      "text/plain": [
       "<Figure size 648x576 with 2 Axes>"
      ]
     },
     "metadata": {
      "needs_background": "light"
     },
     "output_type": "display_data"
    },
    {
     "data": {
      "image/png": "[encoded data removed]",
      "text/plain": [
       "<Figure size 648x576 with 2 Axes>"
      ]
     },
     "metadata": {
      "needs_background": "light"
     },
     "output_type": "display_data"
    },
    {
     "data": {
      "image/png": "[encoded data removed]",
      "text/plain": [
       "<Figure size 648x576 with 2 Axes>"
      ]
     },
     "metadata": {
      "needs_background": "light"
     },
     "output_type": "display_data"
    },
    {
     "data": {
      "image/png": "[encoded data removed]",
      "text/plain": [
       "<Figure size 648x576 with 2 Axes>"
      ]
     },
     "metadata": {
      "needs_background": "light"
     },
     "output_type": "display_data"
    },
    {
     "data": {
      "image/png": "[encoded data removed]",
      "text/plain": [
       "<Figure size 648x576 with 2 Axes>"
      ]
     },
     "metadata": {
      "needs_background": "light"
     },
     "output_type": "display_data"
    }
   ],
   "source": [
    "xval_model(fit_maxent_classifier, unigram_dataset['X'], unigram_dataset['y'], 10)"
   ]
  },
  {
   "cell_type": "code",
   "execution_count": 51,
   "metadata": {},
   "outputs": [
    {
     "data": {
      "image/png": "[encoded data removed]",
      "text/plain": [
       "<Figure size 432x288 with 1 Axes>"
      ]
     },
     "metadata": {
      "needs_background": "light"
     },
     "output_type": "display_data"
    },
    {
     "name": "stdout",
     "output_type": "stream",
     "text": [
      "95.0 confidence interval: 70.7% and 75.1%\n"
     ]
    }
   ],
   "source": [
    "# plot scores\n",
    "plt.hist(stats)\n",
    "plt.show()\n",
    "# confidence intervals\n",
    "alpha = 0.95\n",
    "p = ((1.0-alpha)/2.0) * 100\n",
    "lower = max(0.0, np.percentile(stats, p))\n",
    "p = (alpha+((1.0-alpha)/2.0)) * 100\n",
    "upper = min(1.0, np.percentile(stats, p))\n",
    "print('%.1f confidence interval: %.1f%% and %.1f%%' % (alpha*100, lower*100, upper*100))"
   ]
  },
  {
   "cell_type": "code",
   "execution_count": 52,
   "metadata": {},
   "outputs": [],
   "source": [
    "stats = list()"
   ]
  },
  {
   "cell_type": "code",
   "execution_count": 53,
   "metadata": {},
   "outputs": [
    {
     "name": "stdout",
     "output_type": "stream",
     "text": [
      "              precision    recall  f1-score   support\n",
      "\n",
      "           0      0.727     0.732     0.730      1147\n",
      "           1      0.727     0.721     0.724      1131\n",
      "\n",
      "   micro avg      0.727     0.727     0.727      2278\n",
      "   macro avg      0.727     0.727     0.727      2278\n",
      "weighted avg      0.727     0.727     0.727      2278\n",
      "\n",
      "Confusion matrix:\n",
      "Predicted  False  True  __all__\n",
      "Actual                         \n",
      "False        840   307     1147\n",
      "True         315   816     1131\n",
      "__all__     1155  1123     2278\n",
      "0.7269231569785772\n",
      "              precision    recall  f1-score   support\n",
      "\n",
      "           0      0.696     0.716     0.706      1156\n",
      "           1      0.699     0.677     0.688      1122\n",
      "\n",
      "   micro avg      0.697     0.697     0.697      2278\n",
      "   macro avg      0.697     0.697     0.697      2278\n",
      "weighted avg      0.697     0.697     0.697      2278\n",
      "\n",
      "Confusion matrix:\n",
      "Predicted  False  True  __all__\n",
      "Actual                         \n",
      "False        828   328     1156\n",
      "True         362   760     1122\n",
      "__all__     1190  1088     2278\n",
      "0.6968325791855203\n",
      "              precision    recall  f1-score   support\n",
      "\n",
      "           0      0.710     0.720     0.715      1135\n",
      "           1      0.718     0.709     0.713      1143\n",
      "\n",
      "   micro avg      0.714     0.714     0.714      2278\n",
      "   macro avg      0.714     0.714     0.714      2278\n",
      "weighted avg      0.714     0.714     0.714      2278\n",
      "\n",
      "Confusion matrix:\n",
      "Predicted  False  True  __all__\n",
      "Actual                         \n",
      "False        817   318     1135\n",
      "True         333   810     1143\n",
      "__all__     1150  1128     2278\n",
      "0.7142203041488774\n"
     ]
    },
    {
     "data": {
      "image/png": "[encoded data removed]",
      "text/plain": [
       "<Figure size 648x576 with 2 Axes>"
      ]
     },
     "metadata": {
      "needs_background": "light"
     },
     "output_type": "display_data"
    },
    {
     "data": {
      "image/png": "[encoded data removed]",
      "text/plain": [
       "<Figure size 648x576 with 2 Axes>"
      ]
     },
     "metadata": {
      "needs_background": "light"
     },
     "output_type": "display_data"
    },
    {
     "data": {
      "image/png": "[encoded data removed]",
      "text/plain": [
       "<Figure size 648x576 with 2 Axes>"
      ]
     },
     "metadata": {
      "needs_background": "light"
     },
     "output_type": "display_data"
    }
   ],
   "source": [
    "xval_model(fit_naive_bayes_classifier, unigram_dataset['X'], unigram_dataset['y'], 3)"
   ]
  },
  {
   "cell_type": "code",
   "execution_count": 54,
   "metadata": {},
   "outputs": [
    {
     "data": {
      "image/png": "[encoded data removed]",
      "text/plain": [
       "<Figure size 432x288 with 1 Axes>"
      ]
     },
     "metadata": {
      "needs_background": "light"
     },
     "output_type": "display_data"
    },
    {
     "name": "stdout",
     "output_type": "stream",
     "text": [
      "95.0 confidence interval: 69.8% and 72.6%\n"
     ]
    }
   ],
   "source": [
    "# plot scores\n",
    "plt.hist(stats)\n",
    "plt.show()\n",
    "# confidence intervals\n",
    "alpha = 0.95\n",
    "p = ((1.0-alpha)/2.0) * 100\n",
    "lower = max(0.0, np.percentile(stats, p))\n",
    "p = (alpha+((1.0-alpha)/2.0)) * 100\n",
    "upper = min(1.0, np.percentile(stats, p))\n",
    "print('%.1f confidence interval: %.1f%% and %.1f%%' % (alpha*100, lower*100, upper*100))"
   ]
  },
  {
   "cell_type": "code",
   "execution_count": null,
   "metadata": {},
   "outputs": [],
   "source": [
    "i=0\n",
    "fasttext_lookup = {}\n",
    "with open('../static/wiki-news-300d-1M-subword.vec') as f:\n",
    "    while True:\n",
    "        try:\n",
    "            x = next(f)\n",
    "        except:\n",
    "            break\n",
    "        try:\n",
    "            fields = x.strip().split()\n",
    "            idx = fields[0]\n",
    "            if idx not in train_vocab: continue\n",
    "            if idx in fasttext_lookup:\n",
    "                print(\"Duplicate! \", idx)\n",
    "            vec = np.array(fields[1:], dtype=np.float32)\n",
    "            fasttext_lookup[idx] = vec\n",
    "            i += 1\n",
    "            if i%500 == 0: print(i)\n",
    "        except:\n",
    "            pass\n",
    "\n",
    "\n",
    "print(len(fasttext_lookup))\n",
    "print(type(fasttext_lookup['the']), fasttext_lookup['the'].shape, sum(fasttext_lookup['the']))"
   ]
  },
  {
   "cell_type": "code",
   "execution_count": null,
   "metadata": {},
   "outputs": [],
   "source": [
    "def embed_phi_c(comment, embeddings):\n",
    "    words = nltk.word_tokenize(comment)\n",
    "    unk = np.zeros(next(iter(embeddings.values())).shape)\n",
    "    return np.sum([embeddings[w] if w in embeddings else unk for w in words], axis=0)"
   ]
  },
  {
   "cell_type": "code",
   "execution_count": null,
   "metadata": {},
   "outputs": [],
   "source": [
    "def fasttext_phi_c(comment):\n",
    "    return embed_phi_c(comment, fasttext_lookup)"
   ]
  },
  {
   "cell_type": "code",
   "execution_count": null,
   "metadata": {
    "scrolled": true
   },
   "outputs": [],
   "source": [
    "fasttext_dataset = build_dataset(\n",
    "    train_ancestors, train_responses, train_labels, fasttext_phi_c, None, concat_phi_r, None, False)\n",
    "\n",
    "fasttext_dataset['X'].shape"
   ]
  },
  {
   "cell_type": "code",
   "execution_count": 3,
   "metadata": {},
   "outputs": [
    {
     "ename": "NameError",
     "evalue": "name 'xval_model' is not defined",
     "output_type": "error",
     "traceback": [
      "\u001b[0;31m---------------------------------------------------------------------------\u001b[0m",
      "\u001b[0;31mNameError\u001b[0m                                 Traceback (most recent call last)",
      "\u001b[0;32m<ipython-input-3-776b4efa6b0b>\u001b[0m in \u001b[0;36m<module>\u001b[0;34m\u001b[0m\n\u001b[0;32m----> 1\u001b[0;31m \u001b[0mxval_model\u001b[0m\u001b[0;34m(\u001b[0m\u001b[0mfit_maxent_classifier\u001b[0m\u001b[0;34m,\u001b[0m \u001b[0mfasttext_dataset\u001b[0m\u001b[0;34m[\u001b[0m\u001b[0;34m'X'\u001b[0m\u001b[0;34m]\u001b[0m\u001b[0;34m,\u001b[0m \u001b[0mfasttext_dataset\u001b[0m\u001b[0;34m[\u001b[0m\u001b[0;34m'y'\u001b[0m\u001b[0;34m]\u001b[0m\u001b[0;34m,\u001b[0m \u001b[0;36m3\u001b[0m\u001b[0;34m)\u001b[0m\u001b[0;34m\u001b[0m\u001b[0;34m\u001b[0m\u001b[0m\n\u001b[0m",
      "\u001b[0;31mNameError\u001b[0m: name 'xval_model' is not defined"
     ]
    }
   ],
   "source": [
    "xval_model(fit_maxent_classifier, fasttext_dataset['X'], fasttext_dataset['y'], 3)"
   ]
  },
  {
   "cell_type": "code",
   "execution_count": 4,
   "metadata": {},
   "outputs": [
    {
     "name": "stdout",
     "output_type": "stream",
     "text": [
      "ls: ../../static/glove/: No such file or directory\r\n"
     ]
    }
   ],
   "source": [
    "%ls ../../static/glove/"
   ]
  },
  {
   "cell_type": "code",
   "execution_count": 5,
   "metadata": {},
   "outputs": [
    {
     "ename": "FileNotFoundError",
     "evalue": "[Errno 2] No such file or directory: '../../static/glove/glove.6B.300d.txt'",
     "output_type": "error",
     "traceback": [
      "\u001b[0;31m---------------------------------------------------------------------------\u001b[0m",
      "\u001b[0;31mFileNotFoundError\u001b[0m                         Traceback (most recent call last)",
      "\u001b[0;32m<ipython-input-5-7cb160ac8125>\u001b[0m in \u001b[0;36m<module>\u001b[0;34m\u001b[0m\n\u001b[1;32m      1\u001b[0m \u001b[0mi\u001b[0m\u001b[0;34m=\u001b[0m\u001b[0;36m0\u001b[0m\u001b[0;34m\u001b[0m\u001b[0;34m\u001b[0m\u001b[0m\n\u001b[1;32m      2\u001b[0m \u001b[0mglove_lookup\u001b[0m \u001b[0;34m=\u001b[0m \u001b[0;34m{\u001b[0m\u001b[0;34m}\u001b[0m\u001b[0;34m\u001b[0m\u001b[0;34m\u001b[0m\u001b[0m\n\u001b[0;32m----> 3\u001b[0;31m \u001b[0;32mwith\u001b[0m \u001b[0mopen\u001b[0m\u001b[0;34m(\u001b[0m\u001b[0;34m'../../static/glove/glove.6B.300d.txt'\u001b[0m\u001b[0;34m)\u001b[0m \u001b[0;32mas\u001b[0m \u001b[0mf\u001b[0m\u001b[0;34m:\u001b[0m\u001b[0;34m\u001b[0m\u001b[0;34m\u001b[0m\u001b[0m\n\u001b[0m\u001b[1;32m      4\u001b[0m \u001b[0;31m#with open('../../static/') as f:\u001b[0m\u001b[0;34m\u001b[0m\u001b[0;34m\u001b[0m\u001b[0;34m\u001b[0m\u001b[0m\n\u001b[1;32m      5\u001b[0m     \u001b[0;32mwhile\u001b[0m \u001b[0;32mTrue\u001b[0m\u001b[0;34m:\u001b[0m\u001b[0;34m\u001b[0m\u001b[0;34m\u001b[0m\u001b[0m\n",
      "\u001b[0;31mFileNotFoundError\u001b[0m: [Errno 2] No such file or directory: '../../static/glove/glove.6B.300d.txt'"
     ]
    }
   ],
   "source": [
    "i=0\n",
    "glove_lookup = {}\n",
    "with open('../../static/glove/glove.6B.300d.txt') as f:\n",
    "#with open('../../static/') as f:\n",
    "    while True:\n",
    "        try:\n",
    "            x = next(f)\n",
    "        except:\n",
    "            break\n",
    "        try:\n",
    "            fields = x.strip().split()\n",
    "            idx = fields[0]\n",
    "            if idx not in train_vocab: continue\n",
    "            if idx in glove_lookup:\n",
    "                print(\"Duplicate! \", idx)\n",
    "            vec = np.array(fields[1:], dtype=np.float32)\n",
    "            glove_lookup[idx] = vec\n",
    "            i += 1\n",
    "            if i%500 == 0: print(i)\n",
    "        except:\n",
    "            pass\n",
    "\n",
    "\n",
    "print(len(glove_lookup))\n",
    "print(type(glove_lookup['the']), glove_lookup['the'].shape, sum(glove_lookup['the']))"
   ]
  },
  {
   "cell_type": "code",
   "execution_count": 6,
   "metadata": {},
   "outputs": [
    {
     "ename": "NameError",
     "evalue": "name 'build_dataset' is not defined",
     "output_type": "error",
     "traceback": [
      "\u001b[0;31m---------------------------------------------------------------------------\u001b[0m",
      "\u001b[0;31mNameError\u001b[0m                                 Traceback (most recent call last)",
      "\u001b[0;32m<ipython-input-6-642a93052b9c>\u001b[0m in \u001b[0;36m<module>\u001b[0;34m\u001b[0m\n\u001b[1;32m      2\u001b[0m     \u001b[0;32mreturn\u001b[0m \u001b[0membed_phi_c\u001b[0m\u001b[0;34m(\u001b[0m\u001b[0mcomment\u001b[0m\u001b[0;34m,\u001b[0m \u001b[0mglove_lookup\u001b[0m\u001b[0;34m)\u001b[0m\u001b[0;34m\u001b[0m\u001b[0;34m\u001b[0m\u001b[0m\n\u001b[1;32m      3\u001b[0m \u001b[0;34m\u001b[0m\u001b[0m\n\u001b[0;32m----> 4\u001b[0;31m glove_dataset = build_dataset(\n\u001b[0m\u001b[1;32m      5\u001b[0m     train_ancestors, train_responses, train_labels, glove_phi_c, None, concat_phi_r, None, False)\n\u001b[1;32m      6\u001b[0m \u001b[0;34m\u001b[0m\u001b[0m\n",
      "\u001b[0;31mNameError\u001b[0m: name 'build_dataset' is not defined"
     ]
    }
   ],
   "source": [
    "def glove_phi_c(comment):\n",
    "    return embed_phi_c(comment, glove_lookup)\n",
    "\n",
    "glove_dataset = build_dataset(\n",
    "    train_ancestors, train_responses, train_labels, glove_phi_c, None, concat_phi_r, None, False)\n",
    "\n",
    "fasttext_dataset['X'].shape"
   ]
  },
  {
   "cell_type": "code",
   "execution_count": 7,
   "metadata": {},
   "outputs": [
    {
     "ename": "NameError",
     "evalue": "name 'xval_model' is not defined",
     "output_type": "error",
     "traceback": [
      "\u001b[0;31m---------------------------------------------------------------------------\u001b[0m",
      "\u001b[0;31mNameError\u001b[0m                                 Traceback (most recent call last)",
      "\u001b[0;32m<ipython-input-7-bb3f5e11bf36>\u001b[0m in \u001b[0;36m<module>\u001b[0;34m\u001b[0m\n\u001b[0;32m----> 1\u001b[0;31m \u001b[0mxval_model\u001b[0m\u001b[0;34m(\u001b[0m\u001b[0mfit_maxent_classifier\u001b[0m\u001b[0;34m,\u001b[0m \u001b[0mglove_dataset\u001b[0m\u001b[0;34m[\u001b[0m\u001b[0;34m'X'\u001b[0m\u001b[0;34m]\u001b[0m\u001b[0;34m,\u001b[0m \u001b[0mglove_dataset\u001b[0m\u001b[0;34m[\u001b[0m\u001b[0;34m'y'\u001b[0m\u001b[0;34m]\u001b[0m\u001b[0;34m,\u001b[0m \u001b[0;36m5\u001b[0m\u001b[0;34m)\u001b[0m\u001b[0;34m\u001b[0m\u001b[0;34m\u001b[0m\u001b[0m\n\u001b[0m",
      "\u001b[0;31mNameError\u001b[0m: name 'xval_model' is not defined"
     ]
    }
   ],
   "source": [
    "xval_model(fit_maxent_classifier, glove_dataset['X'], glove_dataset['y'], 5)"
   ]
  },
  {
   "cell_type": "code",
   "execution_count": 8,
   "metadata": {},
   "outputs": [
    {
     "ename": "ModuleNotFoundError",
     "evalue": "No module named 'allennlp'",
     "output_type": "error",
     "traceback": [
      "\u001b[0;31m---------------------------------------------------------------------------\u001b[0m",
      "\u001b[0;31mModuleNotFoundError\u001b[0m                       Traceback (most recent call last)",
      "\u001b[0;32m<ipython-input-8-e690a3058ad5>\u001b[0m in \u001b[0;36m<module>\u001b[0;34m\u001b[0m\n\u001b[0;32m----> 1\u001b[0;31m \u001b[0;32mfrom\u001b[0m \u001b[0mallennlp\u001b[0m\u001b[0;34m.\u001b[0m\u001b[0mcommands\u001b[0m\u001b[0;34m.\u001b[0m\u001b[0melmo\u001b[0m \u001b[0;32mimport\u001b[0m \u001b[0mElmoEmbedder\u001b[0m\u001b[0;34m\u001b[0m\u001b[0;34m\u001b[0m\u001b[0m\n\u001b[0m",
      "\u001b[0;31mModuleNotFoundError\u001b[0m: No module named 'allennlp'"
     ]
    }
   ],
   "source": [
    "from allennlp.commands.elmo import ElmoEmbedder"
   ]
  },
  {
   "cell_type": "code",
   "execution_count": null,
   "metadata": {},
   "outputs": [],
   "source": [
    "elmo = ElmoEmbedder()"
   ]
  },
  {
   "cell_type": "code",
   "execution_count": null,
   "metadata": {},
   "outputs": [],
   "source": [
    "def elmo_phi_c(comment):\n",
    "    vecs = elmo.embed_sentence(nltk.word_tokenize(comment))\n",
    "    elmo_avg_vec = vecs.mean(axis = 0)\n",
    "    #print(elmo_avg_vec)\n",
    "    return elmo_avg_vec[0]"
   ]
  },
  {
   "cell_type": "code",
   "execution_count": null,
   "metadata": {},
   "outputs": [],
   "source": [
    "elmo_dataset = build_dataset(\n",
    "    train_ancestors, train_responses, train_labels, elmo_phi_c, None, concat_phi_r, None, False)"
   ]
  },
  {
   "cell_type": "code",
   "execution_count": null,
   "metadata": {},
   "outputs": [],
   "source": [
    "xval_model(fit_maxent_classifier, elmo_dataset['X'], elmo_dataset['y'], 10)"
   ]
  },
  {
   "cell_type": "code",
   "execution_count": null,
   "metadata": {},
   "outputs": [],
   "source": []
  },
  {
   "cell_type": "code",
   "execution_count": null,
   "metadata": {},
   "outputs": [],
   "source": []
  }
 ],
 "metadata": {
  "kernelspec": {
   "display_name": "Python 3",
   "language": "python",
   "name": "python3"
  },
  "language_info": {
   "codemirror_mode": {
    "name": "ipython",
    "version": 3
   },
   "file_extension": ".py",
   "mimetype": "text/x-python",
   "name": "python",
   "nbconvert_exporter": "python",
   "pygments_lexer": "ipython3",
   "version": "3.7.1"
  }
 },
 "nbformat": 4,
 "nbformat_minor": 1
}
