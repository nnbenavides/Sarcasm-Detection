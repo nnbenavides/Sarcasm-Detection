{
 "cells": [
  {
   "cell_type": "code",
   "execution_count": null,
   "metadata": {
    "collapsed": true
   },
   "outputs": [],
   "source": [
    "import allennlp\n",
    "import os\n",
    "import csv\n",
    "import json\n",
    "import nltk\n",
    "import torch\n",
    "from collections import Counter\n",
    "import numpy as np\n",
    "from allennlp.commands.elmo import ElmoEmbedder\n",
    "from collections import defaultdict\n",
    "import math"
   ]
  },
  {
   "cell_type": "code",
   "execution_count": null,
   "metadata": {
    "collapsed": true
   },
   "outputs": [],
   "source": [
    "# Read in Data\n",
    "data_dir = '../SARC/2.0/main'\n",
    "comments_file = os.path.join(data_dir, 'comments.json')\n",
    "train_file = os.path.join(data_dir, 'train-balanced.csv')"
   ]
  },
  {
   "cell_type": "code",
   "execution_count": null,
   "metadata": {
    "collapsed": true
   },
   "outputs": [],
   "source": [
    "with open(comments_file, 'r') as f:\n",
    "    comments = json.load(f)"
   ]
  },
  {
   "cell_type": "code",
   "execution_count": null,
   "metadata": {
    "collapsed": true
   },
   "outputs": [],
   "source": [
    "# Format data\n",
    "train_ancestors = []\n",
    "train_responses = []\n",
    "train_labels = []\n",
    "lower = True\n",
    "with open(train_file, 'r') as f:\n",
    "    reader = csv.reader(f, delimiter='|')\n",
    "    for row in reader:\n",
    "        ancestors = row[0].split(' ')\n",
    "        responses = row[1].split(' ')\n",
    "        labels = row[2].split(' ')\n",
    "        if lower:\n",
    "            train_ancestors.append([comments[r]['text'].lower() for r in ancestors])\n",
    "            train_responses.append([comments[r]['text'].lower() for r in responses])\n",
    "        else:\n",
    "            train_ancestors.append([comments[r]['text'] for r in ancestors])\n",
    "            train_responses.append([comments[r]['text'] for r in responses])\n",
    "        train_labels.append(labels)\n"
   ]
  },
  {
   "cell_type": "code",
   "execution_count": null,
   "metadata": {},
   "outputs": [],
   "source": [
    "train_vocab = defaultdict(int)\n",
    "for pair in train_responses:\n",
    "    for comment in pair:\n",
    "        for w in nltk.word_tokenize(comment):\n",
    "            train_vocab[w] += 1\n",
    "train_vocab = Counter(train_vocab)\n",
    "print(len(train_vocab))\n",
    "responses = train_responses\n",
    "print(len(responses))"
   ]
  },
  {
   "cell_type": "code",
   "execution_count": null,
   "metadata": {
    "collapsed": true
   },
   "outputs": [],
   "source": [
    "# Device configuration\n",
    "device = torch.device('cuda' if torch.cuda.is_available() else 'cpu')"
   ]
  },
  {
   "cell_type": "code",
   "execution_count": null,
   "metadata": {
    "collapsed": true
   },
   "outputs": [],
   "source": [
    "elmo = ElmoEmbedder()"
   ]
  },
  {
   "cell_type": "code",
   "execution_count": null,
   "metadata": {},
   "outputs": [],
   "source": [
    "batch_size = 64\n",
    "num_batches = math.ceil(len(responses)/batch_size)\n",
    "all_example_embeddings = []\n",
    "for i in range(num_batches):\n",
    "    batch_examples = []\n",
    "    if i % 10 == 0:\n",
    "        print('on batch', i)\n",
    "    if i == num_batches - 1:\n",
    "        batch_examples = responses[batch_size*i:]\n",
    "    else:\n",
    "        batch_examples = responses[batch_size*i:batch_size*(i+1)]\n",
    "    \n",
    "    first_sentence_embeddings = []\n",
    "    second_sentence_embeddings = []\n",
    "    \n",
    "    first_sentences = [nltk.word_tokenize(x[0]) for x in batch_examples]\n",
    "    second_sentences = [nltk.word_tokenize(x[1]) for x in batch_examples]\n",
    "    \n",
    "    first_batch = elmo.embed_batch(first_sentences)\n",
    "    second_batch = elmo.embed_batch(second_sentences)\n",
    "    for j, sent in enumerate(first_batch):\n",
    "        first_sent_embedding = np.mean(sent[2], axis = 0)\n",
    "        first_sentence_embeddings.append(list(first_sent_embedding))\n",
    "        second_sent_embedding = np.mean(second_batch[j][2], axis = 0)\n",
    "        second_sentence_embeddings.append(list(second_sent_embedding))\n",
    "    example_embeddings = [first_sentence_embeddings[k] + second_sentence_embeddings[k] for k in range(len(first_sentence_embeddings))]\n",
    "    all_example_embeddings += example_embeddings"
   ]
  },
  {
   "cell_type": "code",
   "execution_count": null,
   "metadata": {
    "collapsed": true
   },
   "outputs": [],
   "source": [
    "np.save('main-balanced-elmo-X.npy', all_example_embeddings)"
   ]
  },
  {
   "cell_type": "code",
   "execution_count": null,
   "metadata": {
    "collapsed": true
   },
   "outputs": [],
   "source": [
    "labels = [int(x[0]) for x in train_labels]\n",
    "np.save('main-balanced-elmo-Y.npy', labels)"
   ]
  },
  {
   "cell_type": "code",
   "execution_count": null,
   "metadata": {},
   "outputs": [],
   "source": [
    "print(len(all_example_embeddings))\n",
    "print(len(all_example_embeddings[0]))"
   ]
  },
  {
   "cell_type": "code",
   "execution_count": null,
   "metadata": {
    "collapsed": true
   },
   "outputs": [],
   "source": []
  }
 ],
 "metadata": {
  "kernelspec": {
   "display_name": "224n project",
   "language": "python",
   "name": "proj"
  },
  "language_info": {
   "codemirror_mode": {
    "name": "ipython",
    "version": 3
   },
   "file_extension": ".py",
   "mimetype": "text/x-python",
   "name": "python",
   "nbconvert_exporter": "python",
   "pygments_lexer": "ipython3",
   "version": "3.7.3"
  }
 },
 "nbformat": 4,
 "nbformat_minor": 2
}
